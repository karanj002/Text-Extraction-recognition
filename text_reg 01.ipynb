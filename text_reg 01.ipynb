{
 "cells": [
  {
   "cell_type": "code",
   "execution_count": 1,
   "id": "afbc3d9d",
   "metadata": {},
   "outputs": [],
   "source": [
    "import re\n",
    "import PyPDF2 as p\n",
    "import requests as r\n",
    "import pdfplumber\n",
    "import pandas as pd\n",
    "from collections import namedtuple"
   ]
  },
  {
   "cell_type": "code",
   "execution_count": 2,
   "id": "6a457be5",
   "metadata": {},
   "outputs": [],
   "source": [
    "#file=open(\"C:/Users/hp/Downloads/Shareholders Agreement.pdf\",\"rb\")"
   ]
  },
  {
   "cell_type": "code",
   "execution_count": 3,
   "id": "b91c3e27",
   "metadata": {},
   "outputs": [],
   "source": [
    "#f = p.PdfFileReader(file)"
   ]
  },
  {
   "cell_type": "code",
   "execution_count": 4,
   "id": "96b6f278",
   "metadata": {},
   "outputs": [],
   "source": [
    "#f.getNumPages()"
   ]
  },
  {
   "cell_type": "code",
   "execution_count": 5,
   "id": "100f33b3",
   "metadata": {},
   "outputs": [],
   "source": [
    "with pdfplumber.open(\"C:/Users/hp/Downloads/Shareholders Agreement.pdf\") as pdf:\n",
    "    page = pdf.pages[15]\n",
    "    text = page.extract_text()"
   ]
  },
  {
   "cell_type": "code",
   "execution_count": 6,
   "id": "43b05184",
   "metadata": {},
   "outputs": [],
   "source": [
    "new_vend_re = re.compile(r'\\d{3} [A-Z].*')\n"
   ]
  },
  {
   "cell_type": "code",
   "execution_count": 7,
   "id": "36e8e1d7",
   "metadata": {},
   "outputs": [],
   "source": [
    "for line in text.split('\\n'):\n",
    "    if new_vend_re.match(line):\n",
    "        print(line)"
   ]
  },
  {
   "cell_type": "code",
   "execution_count": null,
   "id": "0633ceeb",
   "metadata": {},
   "outputs": [],
   "source": []
  }
 ],
 "metadata": {
  "kernelspec": {
   "display_name": "Python 3 (ipykernel)",
   "language": "python",
   "name": "python3"
  },
  "language_info": {
   "codemirror_mode": {
    "name": "ipython",
    "version": 3
   },
   "file_extension": ".py",
   "mimetype": "text/x-python",
   "name": "python",
   "nbconvert_exporter": "python",
   "pygments_lexer": "ipython3",
   "version": "3.10.5"
  }
 },
 "nbformat": 4,
 "nbformat_minor": 5
}
